{
 "cells": [
  {
   "cell_type": "code",
   "execution_count": 36,
   "id": "6d137a0d",
   "metadata": {},
   "outputs": [
    {
     "data": {
      "text/plain": [
       "7"
      ]
     },
     "execution_count": 36,
     "metadata": {},
     "output_type": "execute_result"
    }
   ],
   "source": [
    "#Calculating Limits Numerically\n",
    "\n",
    "#A\n",
    "\n",
    "def f(x):\n",
    "    return ((2*x**2)-(4*x)+1)\n",
    "    \n",
    "x=3\n",
    "\n",
    "((2*x**2)-(4*x)+1)"
   ]
  },
  {
   "cell_type": "code",
   "execution_count": 39,
   "id": "9f138df3",
   "metadata": {},
   "outputs": [
    {
     "data": {
      "text/plain": [
       "0.0"
      ]
     },
     "execution_count": 39,
     "metadata": {},
     "output_type": "execute_result"
    }
   ],
   "source": [
    "#Calculating Limits Numerically\n",
    "\n",
    "#B\n",
    "\n",
    "def f(g):\n",
    "    return ((1**x)-1)/x\n",
    "\n",
    "e=1\n",
    "\n",
    "((e**x)-1)/x"
   ]
  },
  {
   "cell_type": "code",
   "execution_count": 7,
   "id": "c216d0d9",
   "metadata": {},
   "outputs": [
    {
     "data": {
      "text/plain": [
       "15.0"
      ]
     },
     "execution_count": 7,
     "metadata": {},
     "output_type": "execute_result"
    }
   ],
   "source": [
    "#Average Rate of Change Problem \n",
    "\n",
    "def f(x):\n",
    "    return 3*x**2\n",
    "a = 2\n",
    "b = 3\n",
    "\n",
    "(f(b)-f(a))/(b-a)\n"
   ]
  },
  {
   "cell_type": "code",
   "execution_count": 16,
   "id": "5c78fd95",
   "metadata": {},
   "outputs": [
    {
     "data": {
      "text/plain": [
       "53.89999999999999"
      ]
     },
     "execution_count": 16,
     "metadata": {},
     "output_type": "execute_result"
    }
   ],
   "source": [
    "#Average Rate of Change to Instantaneous Rate of Change Problem\n",
    "\n",
    "#A\n",
    "def f(t):\n",
    "    return 4.9*t**2\n",
    "a = 5\n",
    "b = 6\n",
    "\n",
    "(f(b)-f(a))/(b-a)"
   ]
  },
  {
   "cell_type": "code",
   "execution_count": 17,
   "id": "0b8e7c07",
   "metadata": {},
   "outputs": [
    {
     "data": {
      "text/plain": [
       "51.45000000000002"
      ]
     },
     "execution_count": 17,
     "metadata": {},
     "output_type": "execute_result"
    }
   ],
   "source": [
    "#Average Rate of Change to Instantaneous Rate of Change Problem\n",
    "\n",
    "#B\n",
    "def f(t):\n",
    "    return 4.9*t**2\n",
    "\n",
    "c = 5\n",
    "d = 5.5\n",
    "\n",
    "(f(d)-f(c))/(d-c)"
   ]
  },
  {
   "cell_type": "code",
   "execution_count": 18,
   "id": "3e5b8c26",
   "metadata": {},
   "outputs": [
    {
     "data": {
      "text/plain": [
       "49.490000000000016"
      ]
     },
     "execution_count": 18,
     "metadata": {},
     "output_type": "execute_result"
    }
   ],
   "source": [
    "#Average Rate of Change to Instantaneous Rate of Change Problem\n",
    "\n",
    "#C\n",
    "\n",
    "def f(t):\n",
    "    return 4.9*t**2\n",
    "\n",
    "a = 5\n",
    "b = 5.1\n",
    "\n",
    "(f(b)-f(a))/(b-a)"
   ]
  },
  {
   "cell_type": "code",
   "execution_count": null,
   "id": "df731bef",
   "metadata": {},
   "outputs": [],
   "source": [
    "#Average Rate of Change to Instantaneous Rate of Change Problem\n",
    "\n",
    "#D: I could not figure out how to do this one at all"
   ]
  },
  {
   "cell_type": "code",
   "execution_count": 55,
   "id": "cf7fe310",
   "metadata": {},
   "outputs": [
    {
     "data": {
      "text/latex": [
       "$\\displaystyle 9.8 x$"
      ],
      "text/plain": [
       "9.8*x"
      ]
     },
     "execution_count": 55,
     "metadata": {},
     "output_type": "execute_result"
    }
   ],
   "source": [
    "#Average Rate of Change to Instantaneous Rate of Change Problem\n",
    "\n",
    "#E\n",
    "\n",
    "from sympy import *\n",
    "import numpy as np\n",
    "x = Symbol('x')\n",
    "y =  4.9*x**2\n",
    "yprime = y.diff(x)\n",
    "yprime"
   ]
  },
  {
   "cell_type": "code",
   "execution_count": 54,
   "id": "a14858b3",
   "metadata": {},
   "outputs": [
    {
     "data": {
      "text/plain": [
       "array([9.8, 9.8, 9.8, 9.8, 9.8])"
      ]
     },
     "execution_count": 54,
     "metadata": {},
     "output_type": "execute_result"
    }
   ],
   "source": [
    "#Average Rate of Change to Instantaneous Rate of Change Problem\n",
    "\n",
    "#F\n",
    "\n",
    "from sympy import *\n",
    "import numpy as np\n",
    "x = Symbol('x')\n",
    "y =  4.9*x**2\n",
    "yprime = y.diff(x)\n",
    "yprime\n",
    "\n",
    "f = lambdify(x, yprime, 'numpy')\n",
    "f(np.ones(5))\n",
    "\n",
    "#this is the same value as the value in part E"
   ]
  },
  {
   "cell_type": "code",
   "execution_count": 49,
   "id": "419da7dc",
   "metadata": {},
   "outputs": [
    {
     "data": {
      "text/latex": [
       "$\\displaystyle 0$"
      ],
      "text/plain": [
       "0"
      ]
     },
     "execution_count": 49,
     "metadata": {},
     "output_type": "execute_result"
    }
   ],
   "source": [
    "#Calculating and Interpreting Partial Derivatives\n",
    "\n",
    "#A\n",
    "\n",
    "from sympy import Symbol, Derivative\n",
    "\n",
    "x= Symbol('x')\n",
    "\n",
    "y= Symbol('y')\n",
    "\n",
    "function= 16000 + (2400**8) - (1800**5)\n",
    "\n",
    "partialderiv= Derivative(function)\n",
    "partialderiv.doit()\n",
    " \n"
   ]
  },
  {
   "cell_type": "code",
   "execution_count": 50,
   "id": "ccf71277",
   "metadata": {},
   "outputs": [
    {
     "ename": "SyntaxError",
     "evalue": "cannot assign to operator (1610473588.py, line 1)",
     "output_type": "error",
     "traceback": [
      "\u001b[0;36m  Input \u001b[0;32mIn [50]\u001b[0;36m\u001b[0m\n\u001b[0;31m    (p -16000+(1800**y))/1400 = c\u001b[0m\n\u001b[0m    ^\u001b[0m\n\u001b[0;31mSyntaxError\u001b[0m\u001b[0;31m:\u001b[0m cannot assign to operator\n"
     ]
    }
   ],
   "source": [
    "#Calculating and Interpreting Partial Derivatives\n",
    "\n",
    "#B\n",
    "\n",
    "(p -16000+(1800**y))/2400 = c"
   ]
  },
  {
   "cell_type": "code",
   "execution_count": 51,
   "id": "9d8c62af",
   "metadata": {},
   "outputs": [
    {
     "ename": "SyntaxError",
     "evalue": "cannot assign to operator (2771141237.py, line 5)",
     "output_type": "error",
     "traceback": [
      "\u001b[0;36m  Input \u001b[0;32mIn [51]\u001b[0;36m\u001b[0m\n\u001b[0;31m    (p-16000-(2400**c))/-1800 = y\u001b[0m\n\u001b[0m    ^\u001b[0m\n\u001b[0;31mSyntaxError\u001b[0m\u001b[0;31m:\u001b[0m cannot assign to operator\n"
     ]
    }
   ],
   "source": [
    "#Calculating and Interpreting Partial Derivatives\n",
    "\n",
    "#C\n",
    "\n",
    "(p-16000-(2400**c))/-1800 = y"
   ]
  }
 ],
 "metadata": {
  "kernelspec": {
   "display_name": "Python 3 (ipykernel)",
   "language": "python",
   "name": "python3"
  },
  "language_info": {
   "codemirror_mode": {
    "name": "ipython",
    "version": 3
   },
   "file_extension": ".py",
   "mimetype": "text/x-python",
   "name": "python",
   "nbconvert_exporter": "python",
   "pygments_lexer": "ipython3",
   "version": "3.9.12"
  }
 },
 "nbformat": 4,
 "nbformat_minor": 5
}
